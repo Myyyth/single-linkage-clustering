{
  "nbformat": 4,
  "nbformat_minor": 0,
  "metadata": {
    "colab": {
      "name": "single_linkage_clustering.ipynb",
      "version": "0.3.2",
      "provenance": []
    },
    "language_info": {
      "codemirror_mode": {
        "name": "ipython",
        "version": 3
      },
      "file_extension": ".py",
      "mimetype": "text/x-python",
      "name": "python",
      "nbconvert_exporter": "python",
      "pygments_lexer": "ipython3",
      "version": "3.7.1"
    },
    "kernelspec": {
      "display_name": "Python 3",
      "language": "python",
      "name": "python3"
    }
  },
  "cells": [
    {
      "cell_type": "markdown",
      "metadata": {
        "id": "pvW5yBySkYsB",
        "colab_type": "text"
      },
      "source": [
        "## Algorithm\n",
        "\n",
        "Signle-linkage algorithm works as follows:\n",
        "<ol>\n",
        "    <li>Treat every point as a cluster</li>\n",
        "    <li>Build pairwise distance matrix between points (Any meaningfull metric can be choosen)</li>\n",
        "    <li>Select two points with minimum distance</li>\n",
        "    <li>Merge clusters that points belong to</li>\n",
        "    <li>Repeat step 3 untill desired amount of clusters achieved</li>\n",
        "</ol>\n",
        "\n",
        "To improve this algorithm, instead of distance matrix, I build sorted list of distances, so it isn't needed to find minimum distance each time."
      ]
    },
    {
      "cell_type": "markdown",
      "metadata": {
        "id": "F6vDq5mmkYsC",
        "colab_type": "text"
      },
      "source": [
        "## Source Code"
      ]
    },
    {
      "cell_type": "markdown",
      "metadata": {
        "id": "GJfz6gcgkYsD",
        "colab_type": "text"
      },
      "source": [
        "Importing libraries"
      ]
    },
    {
      "cell_type": "code",
      "metadata": {
        "id": "ElaXGAUdkYsD",
        "colab_type": "code",
        "colab": {}
      },
      "source": [
        "from matplotlib import pyplot as plt\n",
        "from itertools import product\n",
        "import numpy as np\n",
        "import time"
      ],
      "execution_count": 0,
      "outputs": []
    },
    {
      "cell_type": "markdown",
      "metadata": {
        "id": "erAwaSWUkYsG",
        "colab_type": "text"
      },
      "source": [
        "Setting amount of points, number of clusters and maximum value for a point"
      ]
    },
    {
      "cell_type": "code",
      "metadata": {
        "id": "PQjAOwQDkYsH",
        "colab_type": "code",
        "colab": {}
      },
      "source": [
        "n_points = 100\n",
        "n_clusters = 3\n",
        "max_range = 10000"
      ],
      "execution_count": 0,
      "outputs": []
    },
    {
      "cell_type": "markdown",
      "metadata": {
        "id": "lwNxP90qkYsJ",
        "colab_type": "text"
      },
      "source": [
        "Generating points on a line and plotting"
      ]
    },
    {
      "cell_type": "code",
      "metadata": {
        "id": "XMCdHoUikYsK",
        "colab_type": "code",
        "outputId": "c4f93bac-7ee6-4007-d124-a408672ee4ce",
        "colab": {}
      },
      "source": [
        "points = np.random.randint(0, max_range, (n_points,))\n",
        "plt.plot(points, np.zeros((n_points,)), 'ro')\n",
        "plt.show()"
      ],
      "execution_count": 0,
      "outputs": [
        {
          "output_type": "display_data",
          "data": {
            "image/png": "[encoded data removed]",
            "text/plain": [
              "<Figure size 432x288 with 1 Axes>"
            ]
          },
          "metadata": {
            "tags": [],
            "needs_background": "light"
          }
        }
      ]
    },
    {
      "cell_type": "markdown",
      "metadata": {
        "id": "cjz61l_DkYsO",
        "colab_type": "text"
      },
      "source": [
        "Implementation of single-linkage hierarchical clustering"
      ]
    },
    {
      "cell_type": "code",
      "metadata": {
        "id": "0j-Tro2DkYsP",
        "colab_type": "code",
        "colab": {}
      },
      "source": [
        "def hierarchical_clustering(n_clusters, points):\n",
        "    cluster_labels = np.arange(points.shape[0])\n",
        "    distances = []\n",
        "    for i in range(points.shape[0]):\n",
        "        for j in range(i+1, points.shape[0]):\n",
        "            distances.append((i, j, np.abs(points[i] - points[j])))\n",
        "    distances.sort(key=lambda x: x[2])\n",
        "    num_clusters = len(cluster_labels)\n",
        "    for distance in distances:\n",
        "        to_merge = (distance[0], distance[1])\n",
        "        if cluster_labels[to_merge[0]] == cluster_labels[to_merge[1]]:\n",
        "            continue\n",
        "        if num_clusters <= n_clusters:\n",
        "            break\n",
        "        new_cluster = cluster_labels[to_merge[0]]\n",
        "        old_cluster = cluster_labels[to_merge[1]]\n",
        "        cluster_labels[cluster_labels == old_cluster] = new_cluster\n",
        "        num_clusters -= 1\n",
        "    return cluster_labels"
      ],
      "execution_count": 0,
      "outputs": []
    },
    {
      "cell_type": "markdown",
      "metadata": {
        "id": "pELxwdobkYsS",
        "colab_type": "text"
      },
      "source": [
        "Executing clustering on generated points"
      ]
    },
    {
      "cell_type": "code",
      "metadata": {
        "id": "7wJEeXKykYsS",
        "colab_type": "code",
        "colab": {}
      },
      "source": [
        "start = time.time()\n",
        "cluster_labels = hierarchical_clustering(n_clusters, points)\n",
        "end = time.time()"
      ],
      "execution_count": 0,
      "outputs": []
    },
    {
      "cell_type": "markdown",
      "metadata": {
        "id": "TVFpQJwYkYsV",
        "colab_type": "text"
      },
      "source": [
        "Time to execute algorithm (seconds)"
      ]
    },
    {
      "cell_type": "code",
      "metadata": {
        "id": "K-6BE_UGkYsV",
        "colab_type": "code",
        "outputId": "5c17d957-9fb7-451c-852c-1dbcb701bab8",
        "colab": {}
      },
      "source": [
        "end - start"
      ],
      "execution_count": 0,
      "outputs": [
        {
          "output_type": "execute_result",
          "data": {
            "text/plain": [
              "0.007000923156738281"
            ]
          },
          "metadata": {
            "tags": []
          },
          "execution_count": 17
        }
      ]
    },
    {
      "cell_type": "markdown",
      "metadata": {
        "id": "OkTlkvemkYsZ",
        "colab_type": "text"
      },
      "source": [
        "Plotting results"
      ]
    },
    {
      "cell_type": "code",
      "metadata": {
        "id": "YeXI8r8TkYsZ",
        "colab_type": "code",
        "outputId": "2ded7048-cf9f-4152-efc9-5dea17eb82f0",
        "colab": {}
      },
      "source": [
        "labels = np.unique(cluster_labels)\n",
        "label_map = {}\n",
        "for i in range(len(labels)):\n",
        "    label_map[labels[i]] = i\n",
        "new_cluster_labels = []\n",
        "for i in range(len(cluster_labels)):\n",
        "    new_cluster_labels.append(label_map[cluster_labels[i]])\n",
        "plt.scatter(points, np.zeros((n_points,)), c=new_cluster_labels)\n",
        "plt.show()"
      ],
      "execution_count": 0,
      "outputs": [
        {
          "output_type": "display_data",
          "data": {
            "image/png": "[encoded data removed]",
            "text/plain": [
              "<Figure size 432x288 with 1 Axes>"
            ]
          },
          "metadata": {
            "tags": [],
            "needs_background": "light"
          }
        }
      ]
    },
    {
      "cell_type": "markdown",
      "metadata": {
        "id": "ImowjmbTkYse",
        "colab_type": "text"
      },
      "source": [
        "## Bad Result\n",
        "\n",
        "In general, disadvantage of single-linkage clustering is that it doesn't take into account all points in the cluster, this might lead to incorrect clustering. And following examples demonstrate that"
      ]
    },
    {
      "cell_type": "code",
      "metadata": {
        "id": "B3-wXNnOkYsf",
        "colab_type": "code",
        "outputId": "f5cfda32-f2fc-481c-f346-f8b316a9a07a",
        "colab": {}
      },
      "source": [
        "points = np.array([1, 2, 3, 4, 5, 6, 7, 11, 18, 25, 32, 40, 45, 50])\n",
        "plt.plot(points, np.zeros((points.shape[0],)), 'ro')\n",
        "plt.show()"
      ],
      "execution_count": 0,
      "outputs": [
        {
          "output_type": "display_data",
          "data": {
            "image/png": "[encoded data removed]",
            "text/plain": [
              "<Figure size 432x288 with 1 Axes>"
            ]
          },
          "metadata": {
            "tags": [],
            "needs_background": "light"
          }
        }
      ]
    },
    {
      "cell_type": "code",
      "metadata": {
        "id": "b9B7-t3jkYsi",
        "colab_type": "code",
        "colab": {}
      },
      "source": [
        "cluster_labels = hierarchical_clustering(2, points)"
      ],
      "execution_count": 0,
      "outputs": []
    },
    {
      "cell_type": "code",
      "metadata": {
        "id": "FvIKYXo3kYsk",
        "colab_type": "code",
        "outputId": "ae9c2961-6049-4432-dd21-c2da5f99ed7f",
        "colab": {}
      },
      "source": [
        "labels = np.unique(cluster_labels)\n",
        "label_map = {}\n",
        "for i in range(len(labels)):\n",
        "    label_map[labels[i]] = i\n",
        "new_cluster_labels = []\n",
        "for i in range(len(cluster_labels)):\n",
        "    new_cluster_labels.append(label_map[cluster_labels[i]])\n",
        "plt.scatter(points, np.zeros((points.shape[0],)), c=new_cluster_labels)\n",
        "plt.show()"
      ],
      "execution_count": 0,
      "outputs": [
        {
          "output_type": "display_data",
          "data": {
            "image/png": "[encoded data removed]",
            "text/plain": [
              "<Figure size 432x288 with 1 Axes>"
            ]
          },
          "metadata": {
            "tags": [],
            "needs_background": "light"
          }
        }
      ]
    },
    {
      "cell_type": "markdown",
      "metadata": {
        "id": "uzHpJgCVkYsn",
        "colab_type": "text"
      },
      "source": [
        "As we can see, single-linkage cluster assigned point between 30 and 40 to purple cluster, but this point is quite far from most points of the purple cluster. It seems reasonable to assign this point to yellow cluster. Such problem called chaining phenomenon"
      ]
    }
  ]
}